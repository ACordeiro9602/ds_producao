{
 "cells": [
  {
   "cell_type": "markdown",
   "id": "74580959",
   "metadata": {},
   "source": [
    "# 0.0 Imports"
   ]
  },
  {
   "cell_type": "code",
   "execution_count": 2,
   "id": "1d48c361",
   "metadata": {
    "ExecuteTime": {
     "end_time": "2023-07-04T22:24:36.371224Z",
     "start_time": "2023-07-04T22:24:35.475388Z"
    }
   },
   "outputs": [
    {
     "name": "stdout",
     "output_type": "stream",
     "text": [
      "time: 890 ms (started: 2023-07-04 19:24:35 -03:00)\n"
     ]
    }
   ],
   "source": [
    "import pandas as pd\n",
    "import inflection \n",
    "import math\n",
    "import numpy as np\n",
    "import seaborn as sns\n",
    "from matplotlib import pyplot as plt\n",
    "from IPython.core.display import HTML\n",
    "from IPython.display import Image\n",
    "import datetime as datetime "
   ]
  },
  {
   "cell_type": "markdown",
   "id": "ab265431",
   "metadata": {
    "heading_collapsed": true
   },
   "source": [
    "## 0.1 Helper Functions"
   ]
  },
  {
   "cell_type": "markdown",
   "id": "38cc8aec",
   "metadata": {},
   "source": [
    "## 0.2 Loading Data"
   ]
  },
  {
   "cell_type": "code",
   "execution_count": 2,
   "id": "092af837",
   "metadata": {
    "ExecuteTime": {
     "end_time": "2023-07-04T21:43:24.252741Z",
     "start_time": "2023-07-04T21:43:23.489499Z"
    }
   },
   "outputs": [
    {
     "name": "stdout",
     "output_type": "stream",
     "text": [
      "time: 750 ms (started: 2023-07-04 18:43:23 -03:00)\n"
     ]
    }
   ],
   "source": [
    "df_sales_raw = pd.read_csv('data/train.csv', low_memory=False)\n",
    "df_store_raw = pd.read_csv('data/store.csv', low_memory=False)\n",
    "\n",
    "# merge\n",
    "df_raw = pd.merge(df_sales_raw, df_store_raw, how='left', on='Store' )"
   ]
  },
  {
   "cell_type": "markdown",
   "id": "aecb373e",
   "metadata": {},
   "source": [
    "# 1.0 Passo 01 -  Descrição dos dados"
   ]
  },
  {
   "cell_type": "code",
   "execution_count": 3,
   "id": "e90a0f58",
   "metadata": {
    "ExecuteTime": {
     "end_time": "2023-07-04T21:43:24.423806Z",
     "start_time": "2023-07-04T21:43:24.254211Z"
    }
   },
   "outputs": [
    {
     "name": "stdout",
     "output_type": "stream",
     "text": [
      "time: 156 ms (started: 2023-07-04 18:43:24 -03:00)\n"
     ]
    }
   ],
   "source": [
    "df1 = df_raw.copy()"
   ]
  },
  {
   "cell_type": "code",
   "execution_count": 4,
   "id": "26185040",
   "metadata": {
    "ExecuteTime": {
     "end_time": "2023-07-04T21:43:24.438875Z",
     "start_time": "2023-07-04T21:43:24.426948Z"
    }
   },
   "outputs": [
    {
     "name": "stdout",
     "output_type": "stream",
     "text": [
      "time: 0 ns (started: 2023-07-04 18:43:24 -03:00)\n"
     ]
    }
   ],
   "source": [
    "cols_old = ['Store', 'DayOfWeek', 'Date', 'Sales', 'Customers', 'Open', 'Promo',\n",
    "            'StateHoliday', 'SchoolHoliday', 'StoreType', 'Assortment',\n",
    "            'CompetitionDistance', 'CompetitionOpenSinceMonth',\n",
    "            'CompetitionOpenSinceYear', 'Promo2', 'Promo2SinceWeek',\n",
    "            'Promo2SinceYear', 'PromoInterval']\n",
    "\n",
    "snakecase = lambda x: inflection.underscore( x )\n",
    "\n",
    "cols_new = list(map( snakecase, cols_old))\n",
    "\n",
    "#rename\n",
    "\n",
    "df1.columns = cols_new"
   ]
  },
  {
   "cell_type": "code",
   "execution_count": 5,
   "id": "1afd1b93",
   "metadata": {
    "ExecuteTime": {
     "end_time": "2023-07-04T21:43:24.454180Z",
     "start_time": "2023-07-04T21:43:24.440379Z"
    }
   },
   "outputs": [
    {
     "data": {
      "text/plain": [
       "Index(['store', 'day_of_week', 'date', 'sales', 'customers', 'open', 'promo',\n",
       "       'state_holiday', 'school_holiday', 'store_type', 'assortment',\n",
       "       'competition_distance', 'competition_open_since_month',\n",
       "       'competition_open_since_year', 'promo2', 'promo2_since_week',\n",
       "       'promo2_since_year', 'promo_interval'],\n",
       "      dtype='object')"
      ]
     },
     "execution_count": 5,
     "metadata": {},
     "output_type": "execute_result"
    },
    {
     "name": "stdout",
     "output_type": "stream",
     "text": [
      "time: 0 ns (started: 2023-07-04 18:43:24 -03:00)\n"
     ]
    }
   ],
   "source": [
    "df1.columns"
   ]
  },
  {
   "cell_type": "markdown",
   "id": "09e4f036",
   "metadata": {},
   "source": [
    "\n",
    "## 1.1 Rename Columns"
   ]
  },
  {
   "cell_type": "markdown",
   "id": "41197bf1",
   "metadata": {},
   "source": [
    "\n",
    "## 1.2 Data dimensions"
   ]
  },
  {
   "cell_type": "code",
   "execution_count": 6,
   "id": "ce2a10e0",
   "metadata": {
    "ExecuteTime": {
     "end_time": "2023-07-04T21:43:24.470390Z",
     "start_time": "2023-07-04T21:43:24.456252Z"
    }
   },
   "outputs": [
    {
     "name": "stdout",
     "output_type": "stream",
     "text": [
      "Number of Rows: 1017209\n",
      "Number of Columns: 18\n",
      "time: 0 ns (started: 2023-07-04 18:43:24 -03:00)\n"
     ]
    }
   ],
   "source": [
    "print ('Number of Rows: {}'.format( df1.shape[0]))\n",
    "print ('Number of Columns: {}'.format( df1.shape[1]))"
   ]
  },
  {
   "cell_type": "markdown",
   "id": "ed746eaf",
   "metadata": {},
   "source": [
    "\n",
    "## 1.3 Data types"
   ]
  },
  {
   "cell_type": "code",
   "execution_count": 7,
   "id": "1e34b0bb",
   "metadata": {
    "ExecuteTime": {
     "end_time": "2023-07-04T21:43:24.580425Z",
     "start_time": "2023-07-04T21:43:24.472608Z"
    }
   },
   "outputs": [
    {
     "data": {
      "text/plain": [
       "store                                    int64\n",
       "day_of_week                              int64\n",
       "date                            datetime64[ns]\n",
       "sales                                    int64\n",
       "customers                                int64\n",
       "open                                     int64\n",
       "promo                                    int64\n",
       "state_holiday                           object\n",
       "school_holiday                           int64\n",
       "store_type                              object\n",
       "assortment                              object\n",
       "competition_distance                   float64\n",
       "competition_open_since_month           float64\n",
       "competition_open_since_year            float64\n",
       "promo2                                   int64\n",
       "promo2_since_week                      float64\n",
       "promo2_since_year                      float64\n",
       "promo_interval                          object\n",
       "dtype: object"
      ]
     },
     "execution_count": 7,
     "metadata": {},
     "output_type": "execute_result"
    },
    {
     "name": "stdout",
     "output_type": "stream",
     "text": [
      "time: 94 ms (started: 2023-07-04 18:43:24 -03:00)\n"
     ]
    }
   ],
   "source": [
    "\n",
    "df1['date'] = pd.to_datetime( df1['date'])\n",
    "df1.dtypes"
   ]
  },
  {
   "cell_type": "markdown",
   "id": "400618cd",
   "metadata": {},
   "source": [
    "\n",
    "## 1.4 Check NA"
   ]
  },
  {
   "cell_type": "code",
   "execution_count": 8,
   "id": "b2c34e75",
   "metadata": {
    "ExecuteTime": {
     "end_time": "2023-07-04T21:43:24.955132Z",
     "start_time": "2023-07-04T21:43:24.582509Z"
    }
   },
   "outputs": [
    {
     "data": {
      "text/plain": [
       "store                                0\n",
       "day_of_week                          0\n",
       "date                                 0\n",
       "sales                                0\n",
       "customers                            0\n",
       "open                                 0\n",
       "promo                                0\n",
       "state_holiday                        0\n",
       "school_holiday                       0\n",
       "store_type                           0\n",
       "assortment                           0\n",
       "competition_distance              2642\n",
       "competition_open_since_month    323348\n",
       "competition_open_since_year     323348\n",
       "promo2                               0\n",
       "promo2_since_week               508031\n",
       "promo2_since_year               508031\n",
       "promo_interval                  508031\n",
       "dtype: int64"
      ]
     },
     "execution_count": 8,
     "metadata": {},
     "output_type": "execute_result"
    },
    {
     "name": "stdout",
     "output_type": "stream",
     "text": [
      "time: 344 ms (started: 2023-07-04 18:43:24 -03:00)\n"
     ]
    }
   ],
   "source": [
    "df1.isna().sum()"
   ]
  },
  {
   "cell_type": "markdown",
   "id": "a0352d2d",
   "metadata": {},
   "source": [
    "\n",
    "## 1.5 Fillout NA"
   ]
  },
  {
   "cell_type": "code",
   "execution_count": 9,
   "id": "145c7198",
   "metadata": {
    "ExecuteTime": {
     "end_time": "2023-07-04T21:43:25.002623Z",
     "start_time": "2023-07-04T21:43:24.957142Z"
    }
   },
   "outputs": [
    {
     "data": {
      "text/html": [
       "<div>\n",
       "<style scoped>\n",
       "    .dataframe tbody tr th:only-of-type {\n",
       "        vertical-align: middle;\n",
       "    }\n",
       "\n",
       "    .dataframe tbody tr th {\n",
       "        vertical-align: top;\n",
       "    }\n",
       "\n",
       "    .dataframe thead th {\n",
       "        text-align: right;\n",
       "    }\n",
       "</style>\n",
       "<table border=\"1\" class=\"dataframe\">\n",
       "  <thead>\n",
       "    <tr style=\"text-align: right;\">\n",
       "      <th></th>\n",
       "      <th>store</th>\n",
       "      <th>day_of_week</th>\n",
       "      <th>date</th>\n",
       "      <th>sales</th>\n",
       "      <th>customers</th>\n",
       "      <th>open</th>\n",
       "      <th>promo</th>\n",
       "      <th>state_holiday</th>\n",
       "      <th>school_holiday</th>\n",
       "      <th>store_type</th>\n",
       "      <th>assortment</th>\n",
       "      <th>competition_distance</th>\n",
       "      <th>competition_open_since_month</th>\n",
       "      <th>competition_open_since_year</th>\n",
       "      <th>promo2</th>\n",
       "      <th>promo2_since_week</th>\n",
       "      <th>promo2_since_year</th>\n",
       "      <th>promo_interval</th>\n",
       "    </tr>\n",
       "  </thead>\n",
       "  <tbody>\n",
       "    <tr>\n",
       "      <th>342114</th>\n",
       "      <td>94</td>\n",
       "      <td>2</td>\n",
       "      <td>2014-09-09</td>\n",
       "      <td>5331</td>\n",
       "      <td>528</td>\n",
       "      <td>1</td>\n",
       "      <td>0</td>\n",
       "      <td>0</td>\n",
       "      <td>0</td>\n",
       "      <td>d</td>\n",
       "      <td>c</td>\n",
       "      <td>14620.0</td>\n",
       "      <td>NaN</td>\n",
       "      <td>NaN</td>\n",
       "      <td>0</td>\n",
       "      <td>NaN</td>\n",
       "      <td>NaN</td>\n",
       "      <td>NaN</td>\n",
       "    </tr>\n",
       "  </tbody>\n",
       "</table>\n",
       "</div>"
      ],
      "text/plain": [
       "        store  day_of_week       date  sales  customers  open  promo  \\\n",
       "342114     94            2 2014-09-09   5331        528     1      0   \n",
       "\n",
       "       state_holiday  school_holiday store_type assortment  \\\n",
       "342114             0               0          d          c   \n",
       "\n",
       "        competition_distance  competition_open_since_month  \\\n",
       "342114               14620.0                           NaN   \n",
       "\n",
       "        competition_open_since_year  promo2  promo2_since_week  \\\n",
       "342114                          NaN       0                NaN   \n",
       "\n",
       "        promo2_since_year promo_interval  \n",
       "342114                NaN            NaN  "
      ]
     },
     "execution_count": 9,
     "metadata": {},
     "output_type": "execute_result"
    },
    {
     "name": "stdout",
     "output_type": "stream",
     "text": [
      "time: 31 ms (started: 2023-07-04 18:43:24 -03:00)\n"
     ]
    }
   ],
   "source": [
    "df1.sample()"
   ]
  },
  {
   "cell_type": "code",
   "execution_count": 10,
   "id": "009d1381",
   "metadata": {
    "ExecuteTime": {
     "end_time": "2023-07-04T21:44:10.114313Z",
     "start_time": "2023-07-04T21:43:25.006006Z"
    }
   },
   "outputs": [
    {
     "name": "stdout",
     "output_type": "stream",
     "text": [
      "time: 45.1 s (started: 2023-07-04 18:43:25 -03:00)\n"
     ]
    }
   ],
   "source": [
    "#competition_distance   \n",
    "df1['competition_distance'] = df1['competition_distance'].apply(lambda x: 200000.0 if math.isnan(x) else x)\n",
    "\n",
    "#competition_open_since_month    \n",
    "df1['competition_open_since_month'] = df1.apply(lambda x: x['date'].month if math.isnan(x['competition_open_since_month']) else x['competition_open_since_month'],axis=1)\n",
    "\n",
    "#competition_open_since_year     \n",
    "df1['competition_open_since_year'] = df1.apply(lambda x: x['date'].year if math.isnan(x['competition_open_since_year']) else x['competition_open_since_year'],axis=1)\n",
    "\n",
    "#promo2_since_week                \n",
    "df1['promo2_since_week'] = df1.apply(lambda x: x['date'].week if math.isnan(x['promo2_since_week']) else x['promo2_since_week'],axis=1)\n",
    "\n",
    "# promo2_since_year     \n",
    "df1['promo2_since_year'] = df1.apply(lambda x: x['date'].year if math.isnan(x['promo2_since_year']) else x['promo2_since_year'],axis=1)\n",
    "\n",
    "# promo_interval \n",
    "month_map = {1: 'Jan',2: 'Fev',3: 'Mar',4: 'Apr',5: 'May',6: 'Jun',7: 'Jul',8: 'Aug',9: 'Sep',10: 'Oct',11: 'Nov',12: 'Dec'}\n",
    "\n",
    "df1['promo_interval'].fillna(0, inplace=True)\n",
    "\n",
    "df1['month_map'] = df1['date'].dt.month.map( month_map )\n",
    "\n",
    "df1['is_promo'] =  df1[['promo_interval','month_map']].apply(lambda x: 0 if x['promo_interval'] == 0 else 1 if x['month_map'] in x['promo_interval'].split( ',') else 0, axis=1)\n",
    "\n",
    "\n",
    "\n",
    "\n",
    "\n",
    "\n",
    "\n"
   ]
  },
  {
   "cell_type": "markdown",
   "id": "3ce7a361",
   "metadata": {},
   "source": [
    "## 1.6 Change Types"
   ]
  },
  {
   "cell_type": "code",
   "execution_count": 11,
   "id": "e989195f",
   "metadata": {
    "ExecuteTime": {
     "end_time": "2023-07-04T21:44:10.130182Z",
     "start_time": "2023-07-04T21:44:10.116294Z"
    }
   },
   "outputs": [
    {
     "data": {
      "text/plain": [
       "store                                    int64\n",
       "day_of_week                              int64\n",
       "date                            datetime64[ns]\n",
       "sales                                    int64\n",
       "customers                                int64\n",
       "open                                     int64\n",
       "promo                                    int64\n",
       "state_holiday                           object\n",
       "school_holiday                           int64\n",
       "store_type                              object\n",
       "assortment                              object\n",
       "competition_distance                   float64\n",
       "competition_open_since_month           float64\n",
       "competition_open_since_year            float64\n",
       "promo2                                   int64\n",
       "promo2_since_week                      float64\n",
       "promo2_since_year                      float64\n",
       "promo_interval                          object\n",
       "month_map                               object\n",
       "is_promo                                 int64\n",
       "dtype: object"
      ]
     },
     "execution_count": 11,
     "metadata": {},
     "output_type": "execute_result"
    },
    {
     "name": "stdout",
     "output_type": "stream",
     "text": [
      "time: 0 ns (started: 2023-07-04 18:44:10 -03:00)\n"
     ]
    }
   ],
   "source": [
    "df1.dtypes"
   ]
  },
  {
   "cell_type": "code",
   "execution_count": 12,
   "id": "7c0acac9",
   "metadata": {
    "ExecuteTime": {
     "end_time": "2023-07-04T21:44:10.192675Z",
     "start_time": "2023-07-04T21:44:10.133279Z"
    }
   },
   "outputs": [
    {
     "name": "stdout",
     "output_type": "stream",
     "text": [
      "time: 47 ms (started: 2023-07-04 18:44:10 -03:00)\n"
     ]
    }
   ],
   "source": [
    "df1['competition_open_since_month'] = df1['competition_open_since_month'].astype( int )\n",
    "df1['competition_open_since_year'] = df1['competition_open_since_year'].astype( int )\n",
    "\n",
    "df1['promo2_since_week'] = df1['promo2_since_week'].astype( int )\n",
    "df1['promo2_since_year'] = df1['promo2_since_year'].astype( int )"
   ]
  },
  {
   "cell_type": "markdown",
   "id": "68d79ba8",
   "metadata": {},
   "source": [
    "## 1.7 Descriptive Statistical"
   ]
  },
  {
   "cell_type": "code",
   "execution_count": 13,
   "id": "d5711193",
   "metadata": {
    "ExecuteTime": {
     "end_time": "2023-07-04T21:44:10.316599Z",
     "start_time": "2023-07-04T21:44:10.194667Z"
    }
   },
   "outputs": [
    {
     "name": "stdout",
     "output_type": "stream",
     "text": [
      "time: 109 ms (started: 2023-07-04 18:44:10 -03:00)\n"
     ]
    }
   ],
   "source": [
    "num_attributes = df1.select_dtypes( include=['int64', 'float64'])\n",
    "cat_attributes = df1.select_dtypes( exclude=['int64', 'float64','datetime64[ns]'])"
   ]
  },
  {
   "cell_type": "code",
   "execution_count": 14,
   "id": "13593462",
   "metadata": {
    "ExecuteTime": {
     "end_time": "2023-07-04T21:44:10.363799Z",
     "start_time": "2023-07-04T21:44:10.318864Z"
    }
   },
   "outputs": [
    {
     "data": {
      "text/html": [
       "<div>\n",
       "<style scoped>\n",
       "    .dataframe tbody tr th:only-of-type {\n",
       "        vertical-align: middle;\n",
       "    }\n",
       "\n",
       "    .dataframe tbody tr th {\n",
       "        vertical-align: top;\n",
       "    }\n",
       "\n",
       "    .dataframe thead th {\n",
       "        text-align: right;\n",
       "    }\n",
       "</style>\n",
       "<table border=\"1\" class=\"dataframe\">\n",
       "  <thead>\n",
       "    <tr style=\"text-align: right;\">\n",
       "      <th></th>\n",
       "      <th>state_holiday</th>\n",
       "      <th>store_type</th>\n",
       "      <th>assortment</th>\n",
       "      <th>competition_open_since_month</th>\n",
       "      <th>competition_open_since_year</th>\n",
       "      <th>promo2_since_week</th>\n",
       "      <th>promo2_since_year</th>\n",
       "      <th>promo_interval</th>\n",
       "      <th>month_map</th>\n",
       "    </tr>\n",
       "  </thead>\n",
       "  <tbody>\n",
       "    <tr>\n",
       "      <th>14445</th>\n",
       "      <td>0</td>\n",
       "      <td>a</td>\n",
       "      <td>a</td>\n",
       "      <td>7</td>\n",
       "      <td>2015</td>\n",
       "      <td>29</td>\n",
       "      <td>2015</td>\n",
       "      <td>0</td>\n",
       "      <td>Jul</td>\n",
       "    </tr>\n",
       "    <tr>\n",
       "      <th>1016464</th>\n",
       "      <td>a</td>\n",
       "      <td>d</td>\n",
       "      <td>a</td>\n",
       "      <td>10</td>\n",
       "      <td>2000</td>\n",
       "      <td>31</td>\n",
       "      <td>2009</td>\n",
       "      <td>Jan,Apr,Jul,Oct</td>\n",
       "      <td>Jan</td>\n",
       "    </tr>\n",
       "  </tbody>\n",
       "</table>\n",
       "</div>"
      ],
      "text/plain": [
       "        state_holiday store_type assortment  competition_open_since_month  \\\n",
       "14445               0          a          a                             7   \n",
       "1016464             a          d          a                            10   \n",
       "\n",
       "         competition_open_since_year  promo2_since_week  promo2_since_year  \\\n",
       "14445                           2015                 29               2015   \n",
       "1016464                         2000                 31               2009   \n",
       "\n",
       "          promo_interval month_map  \n",
       "14445                  0       Jul  \n",
       "1016464  Jan,Apr,Jul,Oct       Jan  "
      ]
     },
     "execution_count": 14,
     "metadata": {},
     "output_type": "execute_result"
    },
    {
     "name": "stdout",
     "output_type": "stream",
     "text": [
      "time: 31 ms (started: 2023-07-04 18:44:10 -03:00)\n"
     ]
    }
   ],
   "source": [
    "cat_attributes.sample(2)"
   ]
  },
  {
   "cell_type": "markdown",
   "id": "010fc328",
   "metadata": {},
   "source": [
    "## 1.7.1 Numerical Attributes"
   ]
  },
  {
   "cell_type": "code",
   "execution_count": 15,
   "id": "4452c45a",
   "metadata": {
    "ExecuteTime": {
     "end_time": "2023-07-04T21:44:11.994783Z",
     "start_time": "2023-07-04T21:44:10.366136Z"
    }
   },
   "outputs": [
    {
     "data": {
      "text/html": [
       "<div>\n",
       "<style scoped>\n",
       "    .dataframe tbody tr th:only-of-type {\n",
       "        vertical-align: middle;\n",
       "    }\n",
       "\n",
       "    .dataframe tbody tr th {\n",
       "        vertical-align: top;\n",
       "    }\n",
       "\n",
       "    .dataframe thead th {\n",
       "        text-align: right;\n",
       "    }\n",
       "</style>\n",
       "<table border=\"1\" class=\"dataframe\">\n",
       "  <thead>\n",
       "    <tr style=\"text-align: right;\">\n",
       "      <th></th>\n",
       "      <th>attributes</th>\n",
       "      <th>min</th>\n",
       "      <th>max</th>\n",
       "      <th>range</th>\n",
       "      <th>mean</th>\n",
       "      <th>median</th>\n",
       "      <th>std</th>\n",
       "      <th>skew</th>\n",
       "      <th>kurtosis</th>\n",
       "    </tr>\n",
       "  </thead>\n",
       "  <tbody>\n",
       "    <tr>\n",
       "      <th>0</th>\n",
       "      <td>store</td>\n",
       "      <td>1.0</td>\n",
       "      <td>1115.0</td>\n",
       "      <td>1114.0</td>\n",
       "      <td>558.429727</td>\n",
       "      <td>558.0</td>\n",
       "      <td>321.908493</td>\n",
       "      <td>-0.000955</td>\n",
       "      <td>-1.200524</td>\n",
       "    </tr>\n",
       "    <tr>\n",
       "      <th>1</th>\n",
       "      <td>day_of_week</td>\n",
       "      <td>1.0</td>\n",
       "      <td>7.0</td>\n",
       "      <td>6.0</td>\n",
       "      <td>3.998341</td>\n",
       "      <td>4.0</td>\n",
       "      <td>1.997390</td>\n",
       "      <td>0.001593</td>\n",
       "      <td>-1.246873</td>\n",
       "    </tr>\n",
       "    <tr>\n",
       "      <th>2</th>\n",
       "      <td>sales</td>\n",
       "      <td>0.0</td>\n",
       "      <td>41551.0</td>\n",
       "      <td>41551.0</td>\n",
       "      <td>5773.818972</td>\n",
       "      <td>5744.0</td>\n",
       "      <td>3849.924283</td>\n",
       "      <td>0.641460</td>\n",
       "      <td>1.778375</td>\n",
       "    </tr>\n",
       "    <tr>\n",
       "      <th>3</th>\n",
       "      <td>customers</td>\n",
       "      <td>0.0</td>\n",
       "      <td>7388.0</td>\n",
       "      <td>7388.0</td>\n",
       "      <td>633.145946</td>\n",
       "      <td>609.0</td>\n",
       "      <td>464.411506</td>\n",
       "      <td>1.598650</td>\n",
       "      <td>7.091773</td>\n",
       "    </tr>\n",
       "    <tr>\n",
       "      <th>4</th>\n",
       "      <td>open</td>\n",
       "      <td>0.0</td>\n",
       "      <td>1.0</td>\n",
       "      <td>1.0</td>\n",
       "      <td>0.830107</td>\n",
       "      <td>1.0</td>\n",
       "      <td>0.375539</td>\n",
       "      <td>-1.758045</td>\n",
       "      <td>1.090723</td>\n",
       "    </tr>\n",
       "    <tr>\n",
       "      <th>5</th>\n",
       "      <td>promo</td>\n",
       "      <td>0.0</td>\n",
       "      <td>1.0</td>\n",
       "      <td>1.0</td>\n",
       "      <td>0.381515</td>\n",
       "      <td>0.0</td>\n",
       "      <td>0.485758</td>\n",
       "      <td>0.487838</td>\n",
       "      <td>-1.762018</td>\n",
       "    </tr>\n",
       "    <tr>\n",
       "      <th>6</th>\n",
       "      <td>school_holiday</td>\n",
       "      <td>0.0</td>\n",
       "      <td>1.0</td>\n",
       "      <td>1.0</td>\n",
       "      <td>0.178647</td>\n",
       "      <td>0.0</td>\n",
       "      <td>0.383056</td>\n",
       "      <td>1.677842</td>\n",
       "      <td>0.815154</td>\n",
       "    </tr>\n",
       "    <tr>\n",
       "      <th>7</th>\n",
       "      <td>competition_distance</td>\n",
       "      <td>20.0</td>\n",
       "      <td>200000.0</td>\n",
       "      <td>199980.0</td>\n",
       "      <td>5935.442677</td>\n",
       "      <td>2330.0</td>\n",
       "      <td>12547.646829</td>\n",
       "      <td>10.242344</td>\n",
       "      <td>147.789712</td>\n",
       "    </tr>\n",
       "    <tr>\n",
       "      <th>8</th>\n",
       "      <td>promo2</td>\n",
       "      <td>0.0</td>\n",
       "      <td>1.0</td>\n",
       "      <td>1.0</td>\n",
       "      <td>0.500564</td>\n",
       "      <td>1.0</td>\n",
       "      <td>0.500000</td>\n",
       "      <td>-0.002255</td>\n",
       "      <td>-1.999999</td>\n",
       "    </tr>\n",
       "    <tr>\n",
       "      <th>9</th>\n",
       "      <td>is_promo</td>\n",
       "      <td>0.0</td>\n",
       "      <td>1.0</td>\n",
       "      <td>1.0</td>\n",
       "      <td>0.155231</td>\n",
       "      <td>0.0</td>\n",
       "      <td>0.362124</td>\n",
       "      <td>1.904152</td>\n",
       "      <td>1.625796</td>\n",
       "    </tr>\n",
       "  </tbody>\n",
       "</table>\n",
       "</div>"
      ],
      "text/plain": [
       "             attributes   min       max     range         mean  median  \\\n",
       "0                 store   1.0    1115.0    1114.0   558.429727   558.0   \n",
       "1           day_of_week   1.0       7.0       6.0     3.998341     4.0   \n",
       "2                 sales   0.0   41551.0   41551.0  5773.818972  5744.0   \n",
       "3             customers   0.0    7388.0    7388.0   633.145946   609.0   \n",
       "4                  open   0.0       1.0       1.0     0.830107     1.0   \n",
       "5                 promo   0.0       1.0       1.0     0.381515     0.0   \n",
       "6        school_holiday   0.0       1.0       1.0     0.178647     0.0   \n",
       "7  competition_distance  20.0  200000.0  199980.0  5935.442677  2330.0   \n",
       "8                promo2   0.0       1.0       1.0     0.500564     1.0   \n",
       "9              is_promo   0.0       1.0       1.0     0.155231     0.0   \n",
       "\n",
       "            std       skew    kurtosis  \n",
       "0    321.908493  -0.000955   -1.200524  \n",
       "1      1.997390   0.001593   -1.246873  \n",
       "2   3849.924283   0.641460    1.778375  \n",
       "3    464.411506   1.598650    7.091773  \n",
       "4      0.375539  -1.758045    1.090723  \n",
       "5      0.485758   0.487838   -1.762018  \n",
       "6      0.383056   1.677842    0.815154  \n",
       "7  12547.646829  10.242344  147.789712  \n",
       "8      0.500000  -0.002255   -1.999999  \n",
       "9      0.362124   1.904152    1.625796  "
      ]
     },
     "execution_count": 15,
     "metadata": {},
     "output_type": "execute_result"
    },
    {
     "name": "stdout",
     "output_type": "stream",
     "text": [
      "time: 1.61 s (started: 2023-07-04 18:44:10 -03:00)\n"
     ]
    }
   ],
   "source": [
    "# Central tendency - mean, median\n",
    "ct1 = pd.DataFrame(num_attributes.apply( np.mean )).T\n",
    "ct2 = pd.DataFrame(num_attributes.apply( np.median )).T\n",
    "\n",
    "# Dispersion - std, min, max, range, skew, curtosis\n",
    "\n",
    "d1 = pd.DataFrame(num_attributes.apply( np.std )).T\n",
    "d2 = pd.DataFrame(num_attributes.apply( min )).T\n",
    "d3 = pd.DataFrame(num_attributes.apply( max )).T\n",
    "d4 = pd.DataFrame(num_attributes.apply(lambda x: x.max() - x.min() )).T\n",
    "d5 = pd.DataFrame(num_attributes.apply(lambda x: x.skew() )).T\n",
    "d6 = pd.DataFrame(num_attributes.apply(lambda x: x.kurtosis() )).T\n",
    "\n",
    "# concatenate\n",
    "m = pd.concat( [d2, d3, d4 , ct1, ct2, d1, d5, d6]).T.reset_index()\n",
    "\n",
    "m.columns =  ['attributes','min','max','range','mean','median','std','skew','kurtosis']\n",
    "\n",
    "m\n",
    "\n"
   ]
  },
  {
   "cell_type": "code",
   "execution_count": 16,
   "id": "ae646eac",
   "metadata": {
    "ExecuteTime": {
     "end_time": "2023-07-04T21:44:22.127201Z",
     "start_time": "2023-07-04T21:44:11.997943Z"
    }
   },
   "outputs": [
    {
     "name": "stderr",
     "output_type": "stream",
     "text": [
      "C:\\Users\\acordeiro\\AppData\\Local\\Temp\\ipykernel_20860\\2697858400.py:1: UserWarning: \n",
      "\n",
      "`distplot` is a deprecated function and will be removed in seaborn v0.14.0.\n",
      "\n",
      "Please adapt your code to use either `displot` (a figure-level function with\n",
      "similar flexibility) or `histplot` (an axes-level function for histograms).\n",
      "\n",
      "For a guide to updating your code to use the new functions, please see\n",
      "https://gist.github.com/mwaskom/de44147ed2974457ad6372750bbe5751\n",
      "\n",
      "  sns.distplot( df1['competition_distance'])\n"
     ]
    },
    {
     "data": {
      "text/plain": [
       "<Axes: xlabel='competition_distance', ylabel='Density'>"
      ]
     },
     "execution_count": 16,
     "metadata": {},
     "output_type": "execute_result"
    },
    {
     "data": {
      "image/png": "[encoded data removed]",
      "text/plain": [
       "<Figure size 640x480 with 1 Axes>"
      ]
     },
     "metadata": {},
     "output_type": "display_data"
    },
    {
     "name": "stdout",
     "output_type": "stream",
     "text": [
      "time: 10.1 s (started: 2023-07-04 18:44:11 -03:00)\n"
     ]
    }
   ],
   "source": [
    "sns.distplot( df1['competition_distance'])"
   ]
  },
  {
   "cell_type": "markdown",
   "id": "c931de1e",
   "metadata": {},
   "source": [
    "## 1.7.2 Categorical Attributes"
   ]
  },
  {
   "cell_type": "code",
   "execution_count": 17,
   "id": "5e4ab8f1",
   "metadata": {
    "ExecuteTime": {
     "end_time": "2023-07-04T21:44:22.357217Z",
     "start_time": "2023-07-04T21:44:22.128691Z"
    }
   },
   "outputs": [
    {
     "data": {
      "text/plain": [
       "state_holiday                    4\n",
       "store_type                       4\n",
       "assortment                       3\n",
       "competition_open_since_month    12\n",
       "competition_open_since_year     23\n",
       "promo2_since_week               52\n",
       "promo2_since_year                7\n",
       "promo_interval                   4\n",
       "month_map                       12\n",
       "dtype: int64"
      ]
     },
     "execution_count": 17,
     "metadata": {},
     "output_type": "execute_result"
    },
    {
     "name": "stdout",
     "output_type": "stream",
     "text": [
      "time: 203 ms (started: 2023-07-04 18:44:22 -03:00)\n"
     ]
    }
   ],
   "source": [
    "cat_attributes.apply( lambda x: x.unique().shape[0])"
   ]
  },
  {
   "cell_type": "code",
   "execution_count": 18,
   "id": "d68d5b43",
   "metadata": {
    "ExecuteTime": {
     "end_time": "2023-07-04T21:44:22.899616Z",
     "start_time": "2023-07-04T21:44:22.359459Z"
    }
   },
   "outputs": [
    {
     "data": {
      "text/plain": [
       "<Axes: xlabel='assortment', ylabel='sales'>"
      ]
     },
     "execution_count": 18,
     "metadata": {},
     "output_type": "execute_result"
    },
    {
     "data": {
      "image/png": "[encoded data removed]",
      "text/plain": [
       "<Figure size 640x480 with 3 Axes>"
      ]
     },
     "metadata": {},
     "output_type": "display_data"
    },
    {
     "name": "stdout",
     "output_type": "stream",
     "text": [
      "time: 532 ms (started: 2023-07-04 18:44:22 -03:00)\n"
     ]
    }
   ],
   "source": [
    "aux1 = df1[(df1['state_holiday'] != '0' ) & (df1[ 'sales'] >0)]\n",
    "\n",
    "plt.subplot(1, 3, 1)\n",
    "sns.boxplot( x='state_holiday', y='sales', data=aux1)\n",
    "\n",
    "plt.subplot(1, 3, 2)\n",
    "sns.boxplot( x='store_type', y='sales', data=aux1)\n",
    "\n",
    "plt.subplot(1, 3, 3)\n",
    "sns.boxplot( x='assortment', y='sales', data=aux1)"
   ]
  },
  {
   "cell_type": "code",
   "execution_count": null,
   "id": "acc3bb08",
   "metadata": {},
   "outputs": [],
   "source": []
  },
  {
   "cell_type": "markdown",
   "id": "d1a2becc",
   "metadata": {},
   "source": [
    "# 2.0 Passo 02 - Feature Engineering "
   ]
  },
  {
   "cell_type": "code",
   "execution_count": 19,
   "id": "bc57f9e7",
   "metadata": {
    "ExecuteTime": {
     "end_time": "2023-07-04T21:44:22.962013Z",
     "start_time": "2023-07-04T21:44:22.902289Z"
    }
   },
   "outputs": [
    {
     "name": "stdout",
     "output_type": "stream",
     "text": [
      "time: 62 ms (started: 2023-07-04 18:44:22 -03:00)\n"
     ]
    }
   ],
   "source": [
    "df2 = df1.copy()"
   ]
  },
  {
   "cell_type": "markdown",
   "id": "19b8adda",
   "metadata": {},
   "source": [
    "## 2.1 Criação das hipoteses"
   ]
  },
  {
   "cell_type": "markdown",
   "id": "1d52ead2",
   "metadata": {},
   "source": [
    "### 2.1.1 Hipoteses Loja"
   ]
  },
  {
   "cell_type": "markdown",
   "id": "e5add9af",
   "metadata": {},
   "source": [
    "**1.** Lojas com maior quadro de funcionarios deveriam vender mais.\n",
    "\n",
    "**2.** Lojas com maior estoque deveriam vender mais.\n",
    "\n",
    "**3.** Lojas com maior porte deveriam vender mais.\n",
    "\n",
    "**4.** Lojas com menor porte deveriam vender menos.\n",
    "\n",
    "**5.** Lojas com maior sortimento deveriam vender mais."
   ]
  },
  {
   "cell_type": "markdown",
   "id": "d87d51e5",
   "metadata": {},
   "source": [
    "### 2.1.2 Hipoteses Produto"
   ]
  },
  {
   "cell_type": "markdown",
   "id": "2e6b5d10",
   "metadata": {
    "ExecuteTime": {
     "end_time": "2023-07-03T17:49:40.440379Z",
     "start_time": "2023-07-03T17:49:40.422142Z"
    }
   },
   "source": [
    "**1.** Lojas que investem mais em marketing deveriam vender mais.\n",
    "\n",
    "**2.** Lojas que expoe mais os produtos nas vitrines deveriam vender mais.\n",
    "\n",
    "**3.** Lojas que tem preco menores nos produtos deveriam vender mais.\n",
    "\n",
    "**4.** Lojas que tem precos menores por mais tempo nos produtos deveriam vender mais.\n"
   ]
  },
  {
   "cell_type": "markdown",
   "id": "5540ff71",
   "metadata": {},
   "source": [
    "### 2.1.3 Hipoteses Tempo"
   ]
  },
  {
   "cell_type": "markdown",
   "id": "29c3e9bf",
   "metadata": {},
   "source": [
    "**1.** Lojas que tem mais feriados deveriam vender menos. \n",
    "\n",
    "**2.** Lojas que abrem nos primeiros 6 meses deveriam vender mais.\n",
    "\n",
    "**3.** Lojas que abrem nos finais de semana deveriam vender mais."
   ]
  },
  {
   "cell_type": "markdown",
   "id": "fd400d8e",
   "metadata": {},
   "source": [
    "## 2.2 Lista final de Hipoteses"
   ]
  },
  {
   "cell_type": "markdown",
   "id": "7850fbe8",
   "metadata": {},
   "source": [
    "**1.** Lojas com maior sortimentos deveriam vender mais.\n",
    "\n",
    "**2.** Lojas com comptidores mais próximos deveriam vender menos.\n",
    "\n",
    "**3.** Lojas com competidores á mais tempo deveriam vender mais.\n",
    "\n",
    "**4.** Lojas com promoções ativas por mais tempo deveriam vender mais.\n",
    "\n",
    "**5.** Lojas com mais dias de promoção deveriam vender mais. \n",
    "\n",
    "**6.** Lojas com mais promoções consectuvas deveriam vender mais.\n",
    "\n",
    "**7.** Lojas abertas durantes o feriado de nataval deveriam vender mais. \n",
    "\n",
    "**8.** Lojas deveriam vender mais ao longo dos anos. \n",
    "\n",
    "**9.** Lojas deveriam mais no segundo semestre do ano. \n",
    "\n",
    "**10.** Lojas deveriam vender mais depois do dia 10 de cada mês. \n",
    "\n",
    "**11.** Lojas deveriam vender menos aos finais de semana. \n",
    "\n",
    "**12.** Lojas deveriam vender menos durante os feriados escolares.\n"
   ]
  },
  {
   "cell_type": "markdown",
   "id": "2abf1666",
   "metadata": {
    "ExecuteTime": {
     "end_time": "2023-07-04T07:59:10.683599Z",
     "start_time": "2023-07-04T07:59:10.667862Z"
    }
   },
   "source": [
    "## 2.3 Feature Engineering"
   ]
  },
  {
   "cell_type": "code",
   "execution_count": 20,
   "id": "6fa0de69",
   "metadata": {
    "ExecuteTime": {
     "end_time": "2023-07-04T21:44:53.707613Z",
     "start_time": "2023-07-04T21:44:22.964376Z"
    }
   },
   "outputs": [
    {
     "name": "stderr",
     "output_type": "stream",
     "text": [
      "C:\\Users\\acordeiro\\AppData\\Local\\Temp\\ipykernel_20860\\1657840466.py:11: FutureWarning: Series.dt.weekofyear and Series.dt.week have been deprecated. Please use Series.dt.isocalendar().week instead.\n",
      "  df2['week_of_year'] = df2['date'].dt.weekofyear\n"
     ]
    },
    {
     "name": "stdout",
     "output_type": "stream",
     "text": [
      "time: 30.7 s (started: 2023-07-04 18:44:22 -03:00)\n"
     ]
    }
   ],
   "source": [
    "# year\n",
    "df2['year'] = df2['date'].dt.year \n",
    "\n",
    "# month\n",
    "df2['month'] = df2['date'].dt.month\n",
    "\n",
    "# day\n",
    "df2['day'] = df2['date'].dt.day\n",
    "\n",
    "# week of year\n",
    "df2['week_of_year'] = df2['date'].dt.weekofyear\n",
    "\n",
    "# year week\n",
    "df2['year_week'] = df2['date'].dt.strftime( '%Y-%W')\n",
    "\n",
    "# competition since\n",
    "df2['competition_since'] =  df2.apply(lambda x: datetime.datetime (year=x['competition_open_since_year'],month=x['competition_open_since_month'] ,day=1),axis=1)\n",
    "df2['competition_time_month'] = ((df2['date'] - df2['competition_since'])/30).apply( lambda x: x.days ).astype( int )\n",
    "\n",
    "# promo since \n",
    "df2['promo_since'] = df2['promo2_since_year'].astype( str ) + '-' + df2['promo2_since_week'].astype( str )\n",
    "df2['promo_since'] = df2['promo_since'].apply( lambda x: datetime.datetime.strptime( x + '-1', '%Y-%W-%w') -datetime.timedelta( days=7) )\n",
    "df2['promo_time_week'] = ( ( df2['date'] - df2['promo_since'])/7).apply( lambda x: x.days ).astype( int )\n",
    "\n",
    "# assortment\n",
    "df2['assortment'] = df2['assortment'].apply (lambda x: 'basic' if x=='a' else 'extra' if x=='b' else 'extended') \n",
    "\n",
    "# state holiday\n",
    "df2['state_holiday'] = df2['state_holiday'].apply(lambda x: 'public_holiday' if x == 'a' else 'easter_holiday' if x == 'b' else 'christmas' if x == 'c' else 'regular_day')"
   ]
  },
  {
   "cell_type": "code",
   "execution_count": 21,
   "id": "27c27ef5",
   "metadata": {
    "ExecuteTime": {
     "end_time": "2023-07-04T21:44:53.738944Z",
     "start_time": "2023-07-04T21:44:53.709082Z"
    }
   },
   "outputs": [
    {
     "data": {
      "text/html": [
       "<div>\n",
       "<style scoped>\n",
       "    .dataframe tbody tr th:only-of-type {\n",
       "        vertical-align: middle;\n",
       "    }\n",
       "\n",
       "    .dataframe tbody tr th {\n",
       "        vertical-align: top;\n",
       "    }\n",
       "\n",
       "    .dataframe thead th {\n",
       "        text-align: right;\n",
       "    }\n",
       "</style>\n",
       "<table border=\"1\" class=\"dataframe\">\n",
       "  <thead>\n",
       "    <tr style=\"text-align: right;\">\n",
       "      <th></th>\n",
       "      <th>0</th>\n",
       "      <th>1</th>\n",
       "      <th>2</th>\n",
       "      <th>3</th>\n",
       "      <th>4</th>\n",
       "    </tr>\n",
       "  </thead>\n",
       "  <tbody>\n",
       "    <tr>\n",
       "      <th>store</th>\n",
       "      <td>1</td>\n",
       "      <td>2</td>\n",
       "      <td>3</td>\n",
       "      <td>4</td>\n",
       "      <td>5</td>\n",
       "    </tr>\n",
       "    <tr>\n",
       "      <th>day_of_week</th>\n",
       "      <td>5</td>\n",
       "      <td>5</td>\n",
       "      <td>5</td>\n",
       "      <td>5</td>\n",
       "      <td>5</td>\n",
       "    </tr>\n",
       "    <tr>\n",
       "      <th>date</th>\n",
       "      <td>2015-07-31 00:00:00</td>\n",
       "      <td>2015-07-31 00:00:00</td>\n",
       "      <td>2015-07-31 00:00:00</td>\n",
       "      <td>2015-07-31 00:00:00</td>\n",
       "      <td>2015-07-31 00:00:00</td>\n",
       "    </tr>\n",
       "    <tr>\n",
       "      <th>sales</th>\n",
       "      <td>5263</td>\n",
       "      <td>6064</td>\n",
       "      <td>8314</td>\n",
       "      <td>13995</td>\n",
       "      <td>4822</td>\n",
       "    </tr>\n",
       "    <tr>\n",
       "      <th>customers</th>\n",
       "      <td>555</td>\n",
       "      <td>625</td>\n",
       "      <td>821</td>\n",
       "      <td>1498</td>\n",
       "      <td>559</td>\n",
       "    </tr>\n",
       "    <tr>\n",
       "      <th>open</th>\n",
       "      <td>1</td>\n",
       "      <td>1</td>\n",
       "      <td>1</td>\n",
       "      <td>1</td>\n",
       "      <td>1</td>\n",
       "    </tr>\n",
       "    <tr>\n",
       "      <th>promo</th>\n",
       "      <td>1</td>\n",
       "      <td>1</td>\n",
       "      <td>1</td>\n",
       "      <td>1</td>\n",
       "      <td>1</td>\n",
       "    </tr>\n",
       "    <tr>\n",
       "      <th>state_holiday</th>\n",
       "      <td>regular_day</td>\n",
       "      <td>regular_day</td>\n",
       "      <td>regular_day</td>\n",
       "      <td>regular_day</td>\n",
       "      <td>regular_day</td>\n",
       "    </tr>\n",
       "    <tr>\n",
       "      <th>school_holiday</th>\n",
       "      <td>1</td>\n",
       "      <td>1</td>\n",
       "      <td>1</td>\n",
       "      <td>1</td>\n",
       "      <td>1</td>\n",
       "    </tr>\n",
       "    <tr>\n",
       "      <th>store_type</th>\n",
       "      <td>c</td>\n",
       "      <td>a</td>\n",
       "      <td>a</td>\n",
       "      <td>c</td>\n",
       "      <td>a</td>\n",
       "    </tr>\n",
       "    <tr>\n",
       "      <th>assortment</th>\n",
       "      <td>basic</td>\n",
       "      <td>basic</td>\n",
       "      <td>basic</td>\n",
       "      <td>extended</td>\n",
       "      <td>basic</td>\n",
       "    </tr>\n",
       "    <tr>\n",
       "      <th>competition_distance</th>\n",
       "      <td>1270.0</td>\n",
       "      <td>570.0</td>\n",
       "      <td>14130.0</td>\n",
       "      <td>620.0</td>\n",
       "      <td>29910.0</td>\n",
       "    </tr>\n",
       "    <tr>\n",
       "      <th>competition_open_since_month</th>\n",
       "      <td>9</td>\n",
       "      <td>11</td>\n",
       "      <td>12</td>\n",
       "      <td>9</td>\n",
       "      <td>4</td>\n",
       "    </tr>\n",
       "    <tr>\n",
       "      <th>competition_open_since_year</th>\n",
       "      <td>2008</td>\n",
       "      <td>2007</td>\n",
       "      <td>2006</td>\n",
       "      <td>2009</td>\n",
       "      <td>2015</td>\n",
       "    </tr>\n",
       "    <tr>\n",
       "      <th>promo2</th>\n",
       "      <td>0</td>\n",
       "      <td>1</td>\n",
       "      <td>1</td>\n",
       "      <td>0</td>\n",
       "      <td>0</td>\n",
       "    </tr>\n",
       "    <tr>\n",
       "      <th>promo2_since_week</th>\n",
       "      <td>31</td>\n",
       "      <td>13</td>\n",
       "      <td>14</td>\n",
       "      <td>31</td>\n",
       "      <td>31</td>\n",
       "    </tr>\n",
       "    <tr>\n",
       "      <th>promo2_since_year</th>\n",
       "      <td>2015</td>\n",
       "      <td>2010</td>\n",
       "      <td>2011</td>\n",
       "      <td>2015</td>\n",
       "      <td>2015</td>\n",
       "    </tr>\n",
       "    <tr>\n",
       "      <th>promo_interval</th>\n",
       "      <td>0</td>\n",
       "      <td>Jan,Apr,Jul,Oct</td>\n",
       "      <td>Jan,Apr,Jul,Oct</td>\n",
       "      <td>0</td>\n",
       "      <td>0</td>\n",
       "    </tr>\n",
       "    <tr>\n",
       "      <th>month_map</th>\n",
       "      <td>Jul</td>\n",
       "      <td>Jul</td>\n",
       "      <td>Jul</td>\n",
       "      <td>Jul</td>\n",
       "      <td>Jul</td>\n",
       "    </tr>\n",
       "    <tr>\n",
       "      <th>is_promo</th>\n",
       "      <td>0</td>\n",
       "      <td>1</td>\n",
       "      <td>1</td>\n",
       "      <td>0</td>\n",
       "      <td>0</td>\n",
       "    </tr>\n",
       "    <tr>\n",
       "      <th>year</th>\n",
       "      <td>2015</td>\n",
       "      <td>2015</td>\n",
       "      <td>2015</td>\n",
       "      <td>2015</td>\n",
       "      <td>2015</td>\n",
       "    </tr>\n",
       "    <tr>\n",
       "      <th>month</th>\n",
       "      <td>7</td>\n",
       "      <td>7</td>\n",
       "      <td>7</td>\n",
       "      <td>7</td>\n",
       "      <td>7</td>\n",
       "    </tr>\n",
       "    <tr>\n",
       "      <th>day</th>\n",
       "      <td>31</td>\n",
       "      <td>31</td>\n",
       "      <td>31</td>\n",
       "      <td>31</td>\n",
       "      <td>31</td>\n",
       "    </tr>\n",
       "    <tr>\n",
       "      <th>week_of_year</th>\n",
       "      <td>31</td>\n",
       "      <td>31</td>\n",
       "      <td>31</td>\n",
       "      <td>31</td>\n",
       "      <td>31</td>\n",
       "    </tr>\n",
       "    <tr>\n",
       "      <th>year_week</th>\n",
       "      <td>2015-30</td>\n",
       "      <td>2015-30</td>\n",
       "      <td>2015-30</td>\n",
       "      <td>2015-30</td>\n",
       "      <td>2015-30</td>\n",
       "    </tr>\n",
       "    <tr>\n",
       "      <th>competition_since</th>\n",
       "      <td>2008-09-01 00:00:00</td>\n",
       "      <td>2007-11-01 00:00:00</td>\n",
       "      <td>2006-12-01 00:00:00</td>\n",
       "      <td>2009-09-01 00:00:00</td>\n",
       "      <td>2015-04-01 00:00:00</td>\n",
       "    </tr>\n",
       "    <tr>\n",
       "      <th>competition_time_month</th>\n",
       "      <td>84</td>\n",
       "      <td>94</td>\n",
       "      <td>105</td>\n",
       "      <td>71</td>\n",
       "      <td>4</td>\n",
       "    </tr>\n",
       "    <tr>\n",
       "      <th>promo_since</th>\n",
       "      <td>2015-07-27 00:00:00</td>\n",
       "      <td>2010-03-22 00:00:00</td>\n",
       "      <td>2011-03-28 00:00:00</td>\n",
       "      <td>2015-07-27 00:00:00</td>\n",
       "      <td>2015-07-27 00:00:00</td>\n",
       "    </tr>\n",
       "    <tr>\n",
       "      <th>promo_time_week</th>\n",
       "      <td>0</td>\n",
       "      <td>279</td>\n",
       "      <td>226</td>\n",
       "      <td>0</td>\n",
       "      <td>0</td>\n",
       "    </tr>\n",
       "  </tbody>\n",
       "</table>\n",
       "</div>"
      ],
      "text/plain": [
       "                                                0                    1  \\\n",
       "store                                           1                    2   \n",
       "day_of_week                                     5                    5   \n",
       "date                          2015-07-31 00:00:00  2015-07-31 00:00:00   \n",
       "sales                                        5263                 6064   \n",
       "customers                                     555                  625   \n",
       "open                                            1                    1   \n",
       "promo                                           1                    1   \n",
       "state_holiday                         regular_day          regular_day   \n",
       "school_holiday                                  1                    1   \n",
       "store_type                                      c                    a   \n",
       "assortment                                  basic                basic   \n",
       "competition_distance                       1270.0                570.0   \n",
       "competition_open_since_month                    9                   11   \n",
       "competition_open_since_year                  2008                 2007   \n",
       "promo2                                          0                    1   \n",
       "promo2_since_week                              31                   13   \n",
       "promo2_since_year                            2015                 2010   \n",
       "promo_interval                                  0      Jan,Apr,Jul,Oct   \n",
       "month_map                                     Jul                  Jul   \n",
       "is_promo                                        0                    1   \n",
       "year                                         2015                 2015   \n",
       "month                                           7                    7   \n",
       "day                                            31                   31   \n",
       "week_of_year                                   31                   31   \n",
       "year_week                                 2015-30              2015-30   \n",
       "competition_since             2008-09-01 00:00:00  2007-11-01 00:00:00   \n",
       "competition_time_month                         84                   94   \n",
       "promo_since                   2015-07-27 00:00:00  2010-03-22 00:00:00   \n",
       "promo_time_week                                 0                  279   \n",
       "\n",
       "                                                2                    3  \\\n",
       "store                                           3                    4   \n",
       "day_of_week                                     5                    5   \n",
       "date                          2015-07-31 00:00:00  2015-07-31 00:00:00   \n",
       "sales                                        8314                13995   \n",
       "customers                                     821                 1498   \n",
       "open                                            1                    1   \n",
       "promo                                           1                    1   \n",
       "state_holiday                         regular_day          regular_day   \n",
       "school_holiday                                  1                    1   \n",
       "store_type                                      a                    c   \n",
       "assortment                                  basic             extended   \n",
       "competition_distance                      14130.0                620.0   \n",
       "competition_open_since_month                   12                    9   \n",
       "competition_open_since_year                  2006                 2009   \n",
       "promo2                                          1                    0   \n",
       "promo2_since_week                              14                   31   \n",
       "promo2_since_year                            2011                 2015   \n",
       "promo_interval                    Jan,Apr,Jul,Oct                    0   \n",
       "month_map                                     Jul                  Jul   \n",
       "is_promo                                        1                    0   \n",
       "year                                         2015                 2015   \n",
       "month                                           7                    7   \n",
       "day                                            31                   31   \n",
       "week_of_year                                   31                   31   \n",
       "year_week                                 2015-30              2015-30   \n",
       "competition_since             2006-12-01 00:00:00  2009-09-01 00:00:00   \n",
       "competition_time_month                        105                   71   \n",
       "promo_since                   2011-03-28 00:00:00  2015-07-27 00:00:00   \n",
       "promo_time_week                               226                    0   \n",
       "\n",
       "                                                4  \n",
       "store                                           5  \n",
       "day_of_week                                     5  \n",
       "date                          2015-07-31 00:00:00  \n",
       "sales                                        4822  \n",
       "customers                                     559  \n",
       "open                                            1  \n",
       "promo                                           1  \n",
       "state_holiday                         regular_day  \n",
       "school_holiday                                  1  \n",
       "store_type                                      a  \n",
       "assortment                                  basic  \n",
       "competition_distance                      29910.0  \n",
       "competition_open_since_month                    4  \n",
       "competition_open_since_year                  2015  \n",
       "promo2                                          0  \n",
       "promo2_since_week                              31  \n",
       "promo2_since_year                            2015  \n",
       "promo_interval                                  0  \n",
       "month_map                                     Jul  \n",
       "is_promo                                        0  \n",
       "year                                         2015  \n",
       "month                                           7  \n",
       "day                                            31  \n",
       "week_of_year                                   31  \n",
       "year_week                                 2015-30  \n",
       "competition_since             2015-04-01 00:00:00  \n",
       "competition_time_month                          4  \n",
       "promo_since                   2015-07-27 00:00:00  \n",
       "promo_time_week                                 0  "
      ]
     },
     "execution_count": 21,
     "metadata": {},
     "output_type": "execute_result"
    },
    {
     "name": "stdout",
     "output_type": "stream",
     "text": [
      "time: 16 ms (started: 2023-07-04 18:44:53 -03:00)\n"
     ]
    }
   ],
   "source": [
    "df2.head().T"
   ]
  },
  {
   "cell_type": "markdown",
   "id": "547f38b0",
   "metadata": {},
   "source": [
    "# 3.0 Passo 03 - Filtragem de variaveis"
   ]
  },
  {
   "cell_type": "code",
   "execution_count": 22,
   "id": "33b154db",
   "metadata": {
    "ExecuteTime": {
     "end_time": "2023-07-04T21:44:53.939736Z",
     "start_time": "2023-07-04T21:44:53.740862Z"
    }
   },
   "outputs": [
    {
     "name": "stdout",
     "output_type": "stream",
     "text": [
      "time: 188 ms (started: 2023-07-04 18:44:53 -03:00)\n"
     ]
    }
   ],
   "source": [
    "df3 = df2.copy()"
   ]
  },
  {
   "cell_type": "markdown",
   "id": "305a0b08",
   "metadata": {},
   "source": [
    "## 3.1 Filtragem das linhas"
   ]
  },
  {
   "cell_type": "code",
   "execution_count": 23,
   "id": "78a2522b",
   "metadata": {
    "ExecuteTime": {
     "end_time": "2023-07-04T21:44:53.970511Z",
     "start_time": "2023-07-04T21:44:53.942059Z"
    }
   },
   "outputs": [
    {
     "data": {
      "text/html": [
       "<div>\n",
       "<style scoped>\n",
       "    .dataframe tbody tr th:only-of-type {\n",
       "        vertical-align: middle;\n",
       "    }\n",
       "\n",
       "    .dataframe tbody tr th {\n",
       "        vertical-align: top;\n",
       "    }\n",
       "\n",
       "    .dataframe thead th {\n",
       "        text-align: right;\n",
       "    }\n",
       "</style>\n",
       "<table border=\"1\" class=\"dataframe\">\n",
       "  <thead>\n",
       "    <tr style=\"text-align: right;\">\n",
       "      <th></th>\n",
       "      <th>store</th>\n",
       "      <th>day_of_week</th>\n",
       "      <th>date</th>\n",
       "      <th>sales</th>\n",
       "      <th>customers</th>\n",
       "      <th>open</th>\n",
       "      <th>promo</th>\n",
       "      <th>state_holiday</th>\n",
       "      <th>school_holiday</th>\n",
       "      <th>store_type</th>\n",
       "      <th>...</th>\n",
       "      <th>is_promo</th>\n",
       "      <th>year</th>\n",
       "      <th>month</th>\n",
       "      <th>day</th>\n",
       "      <th>week_of_year</th>\n",
       "      <th>year_week</th>\n",
       "      <th>competition_since</th>\n",
       "      <th>competition_time_month</th>\n",
       "      <th>promo_since</th>\n",
       "      <th>promo_time_week</th>\n",
       "    </tr>\n",
       "  </thead>\n",
       "  <tbody>\n",
       "    <tr>\n",
       "      <th>0</th>\n",
       "      <td>1</td>\n",
       "      <td>5</td>\n",
       "      <td>2015-07-31</td>\n",
       "      <td>5263</td>\n",
       "      <td>555</td>\n",
       "      <td>1</td>\n",
       "      <td>1</td>\n",
       "      <td>regular_day</td>\n",
       "      <td>1</td>\n",
       "      <td>c</td>\n",
       "      <td>...</td>\n",
       "      <td>0</td>\n",
       "      <td>2015</td>\n",
       "      <td>7</td>\n",
       "      <td>31</td>\n",
       "      <td>31</td>\n",
       "      <td>2015-30</td>\n",
       "      <td>2008-09-01</td>\n",
       "      <td>84</td>\n",
       "      <td>2015-07-27</td>\n",
       "      <td>0</td>\n",
       "    </tr>\n",
       "    <tr>\n",
       "      <th>1</th>\n",
       "      <td>2</td>\n",
       "      <td>5</td>\n",
       "      <td>2015-07-31</td>\n",
       "      <td>6064</td>\n",
       "      <td>625</td>\n",
       "      <td>1</td>\n",
       "      <td>1</td>\n",
       "      <td>regular_day</td>\n",
       "      <td>1</td>\n",
       "      <td>a</td>\n",
       "      <td>...</td>\n",
       "      <td>1</td>\n",
       "      <td>2015</td>\n",
       "      <td>7</td>\n",
       "      <td>31</td>\n",
       "      <td>31</td>\n",
       "      <td>2015-30</td>\n",
       "      <td>2007-11-01</td>\n",
       "      <td>94</td>\n",
       "      <td>2010-03-22</td>\n",
       "      <td>279</td>\n",
       "    </tr>\n",
       "    <tr>\n",
       "      <th>2</th>\n",
       "      <td>3</td>\n",
       "      <td>5</td>\n",
       "      <td>2015-07-31</td>\n",
       "      <td>8314</td>\n",
       "      <td>821</td>\n",
       "      <td>1</td>\n",
       "      <td>1</td>\n",
       "      <td>regular_day</td>\n",
       "      <td>1</td>\n",
       "      <td>a</td>\n",
       "      <td>...</td>\n",
       "      <td>1</td>\n",
       "      <td>2015</td>\n",
       "      <td>7</td>\n",
       "      <td>31</td>\n",
       "      <td>31</td>\n",
       "      <td>2015-30</td>\n",
       "      <td>2006-12-01</td>\n",
       "      <td>105</td>\n",
       "      <td>2011-03-28</td>\n",
       "      <td>226</td>\n",
       "    </tr>\n",
       "    <tr>\n",
       "      <th>3</th>\n",
       "      <td>4</td>\n",
       "      <td>5</td>\n",
       "      <td>2015-07-31</td>\n",
       "      <td>13995</td>\n",
       "      <td>1498</td>\n",
       "      <td>1</td>\n",
       "      <td>1</td>\n",
       "      <td>regular_day</td>\n",
       "      <td>1</td>\n",
       "      <td>c</td>\n",
       "      <td>...</td>\n",
       "      <td>0</td>\n",
       "      <td>2015</td>\n",
       "      <td>7</td>\n",
       "      <td>31</td>\n",
       "      <td>31</td>\n",
       "      <td>2015-30</td>\n",
       "      <td>2009-09-01</td>\n",
       "      <td>71</td>\n",
       "      <td>2015-07-27</td>\n",
       "      <td>0</td>\n",
       "    </tr>\n",
       "    <tr>\n",
       "      <th>4</th>\n",
       "      <td>5</td>\n",
       "      <td>5</td>\n",
       "      <td>2015-07-31</td>\n",
       "      <td>4822</td>\n",
       "      <td>559</td>\n",
       "      <td>1</td>\n",
       "      <td>1</td>\n",
       "      <td>regular_day</td>\n",
       "      <td>1</td>\n",
       "      <td>a</td>\n",
       "      <td>...</td>\n",
       "      <td>0</td>\n",
       "      <td>2015</td>\n",
       "      <td>7</td>\n",
       "      <td>31</td>\n",
       "      <td>31</td>\n",
       "      <td>2015-30</td>\n",
       "      <td>2015-04-01</td>\n",
       "      <td>4</td>\n",
       "      <td>2015-07-27</td>\n",
       "      <td>0</td>\n",
       "    </tr>\n",
       "  </tbody>\n",
       "</table>\n",
       "<p>5 rows × 29 columns</p>\n",
       "</div>"
      ],
      "text/plain": [
       "   store  day_of_week       date  sales  customers  open  promo state_holiday  \\\n",
       "0      1            5 2015-07-31   5263        555     1      1   regular_day   \n",
       "1      2            5 2015-07-31   6064        625     1      1   regular_day   \n",
       "2      3            5 2015-07-31   8314        821     1      1   regular_day   \n",
       "3      4            5 2015-07-31  13995       1498     1      1   regular_day   \n",
       "4      5            5 2015-07-31   4822        559     1      1   regular_day   \n",
       "\n",
       "   school_holiday store_type  ... is_promo  year  month  day  week_of_year  \\\n",
       "0               1          c  ...        0  2015      7   31            31   \n",
       "1               1          a  ...        1  2015      7   31            31   \n",
       "2               1          a  ...        1  2015      7   31            31   \n",
       "3               1          c  ...        0  2015      7   31            31   \n",
       "4               1          a  ...        0  2015      7   31            31   \n",
       "\n",
       "   year_week  competition_since competition_time_month promo_since  \\\n",
       "0    2015-30         2008-09-01                     84  2015-07-27   \n",
       "1    2015-30         2007-11-01                     94  2010-03-22   \n",
       "2    2015-30         2006-12-01                    105  2011-03-28   \n",
       "3    2015-30         2009-09-01                     71  2015-07-27   \n",
       "4    2015-30         2015-04-01                      4  2015-07-27   \n",
       "\n",
       "   promo_time_week  \n",
       "0                0  \n",
       "1              279  \n",
       "2              226  \n",
       "3                0  \n",
       "4                0  \n",
       "\n",
       "[5 rows x 29 columns]"
      ]
     },
     "execution_count": 23,
     "metadata": {},
     "output_type": "execute_result"
    },
    {
     "name": "stdout",
     "output_type": "stream",
     "text": [
      "time: 15 ms (started: 2023-07-04 18:44:53 -03:00)\n"
     ]
    }
   ],
   "source": [
    "df3.head()"
   ]
  },
  {
   "cell_type": "code",
   "execution_count": 24,
   "id": "83cf1611",
   "metadata": {
    "ExecuteTime": {
     "end_time": "2023-07-04T21:44:54.109823Z",
     "start_time": "2023-07-04T21:44:53.973484Z"
    }
   },
   "outputs": [
    {
     "name": "stdout",
     "output_type": "stream",
     "text": [
      "time: 125 ms (started: 2023-07-04 18:44:53 -03:00)\n"
     ]
    }
   ],
   "source": [
    "df3 = df3[(df3['open'] != 0) & (df3['sales'] > 0)]"
   ]
  },
  {
   "cell_type": "markdown",
   "id": "a1d6eb4e",
   "metadata": {},
   "source": [
    "## 3.2 Selecao das colunas"
   ]
  },
  {
   "cell_type": "code",
   "execution_count": 25,
   "id": "0acfe19f",
   "metadata": {
    "ExecuteTime": {
     "end_time": "2023-07-04T21:44:54.217861Z",
     "start_time": "2023-07-04T21:44:54.112328Z"
    }
   },
   "outputs": [
    {
     "name": "stdout",
     "output_type": "stream",
     "text": [
      "time: 94 ms (started: 2023-07-04 18:44:54 -03:00)\n"
     ]
    }
   ],
   "source": [
    "cols_drop = ['customers', 'open', 'promo_interval', 'month_map']\n",
    "\n",
    "df3 = df3.drop( cols_drop, axis=1)"
   ]
  },
  {
   "cell_type": "code",
   "execution_count": 26,
   "id": "4ee771e3",
   "metadata": {
    "ExecuteTime": {
     "end_time": "2023-07-04T21:44:54.232881Z",
     "start_time": "2023-07-04T21:44:54.220803Z"
    }
   },
   "outputs": [
    {
     "data": {
      "text/plain": [
       "Index(['store', 'day_of_week', 'date', 'sales', 'promo', 'state_holiday',\n",
       "       'school_holiday', 'store_type', 'assortment', 'competition_distance',\n",
       "       'competition_open_since_month', 'competition_open_since_year', 'promo2',\n",
       "       'promo2_since_week', 'promo2_since_year', 'is_promo', 'year', 'month',\n",
       "       'day', 'week_of_year', 'year_week', 'competition_since',\n",
       "       'competition_time_month', 'promo_since', 'promo_time_week'],\n",
       "      dtype='object')"
      ]
     },
     "execution_count": 26,
     "metadata": {},
     "output_type": "execute_result"
    },
    {
     "name": "stdout",
     "output_type": "stream",
     "text": [
      "time: 0 ns (started: 2023-07-04 18:44:54 -03:00)\n"
     ]
    }
   ],
   "source": [
    "df3.columns"
   ]
  },
  {
   "cell_type": "markdown",
   "id": "a2eb6590",
   "metadata": {},
   "source": [
    "# 4.0 Passo 04 - Analise exploratória dos dados"
   ]
  },
  {
   "cell_type": "code",
   "execution_count": 27,
   "id": "41c1f317",
   "metadata": {
    "ExecuteTime": {
     "end_time": "2023-07-04T21:44:57.825187Z",
     "start_time": "2023-07-04T21:44:57.751600Z"
    }
   },
   "outputs": [
    {
     "name": "stdout",
     "output_type": "stream",
     "text": [
      "time: 47 ms (started: 2023-07-04 18:44:57 -03:00)\n"
     ]
    }
   ],
   "source": [
    "df4 = df3.copy()"
   ]
  },
  {
   "cell_type": "markdown",
   "id": "2d7e9347",
   "metadata": {
    "ExecuteTime": {
     "end_time": "2023-07-04T21:45:07.976374Z",
     "start_time": "2023-07-04T21:45:07.949300Z"
    }
   },
   "source": [
    "## 4.1 Analise univariada\n"
   ]
  },
  {
   "cell_type": "markdown",
   "id": "1d26a9a0",
   "metadata": {},
   "source": [
    "### 4.1.1 Response variable\n"
   ]
  },
  {
   "cell_type": "code",
   "execution_count": 32,
   "id": "216b4a5f",
   "metadata": {
    "ExecuteTime": {
     "end_time": "2023-07-04T21:56:47.866985Z",
     "start_time": "2023-07-04T21:56:47.672130Z"
    }
   },
   "outputs": [
    {
     "name": "stderr",
     "output_type": "stream",
     "text": [
      "C:\\Users\\acordeiro\\AppData\\Local\\Temp\\ipykernel_20860\\1267050350.py:1: UserWarning: \n",
      "\n",
      "`distplot` is a deprecated function and will be removed in seaborn v0.14.0.\n",
      "\n",
      "Please adapt your code to use either `displot` (a figure-level function with\n",
      "similar flexibility) or `histplot` (an axes-level function for histograms).\n",
      "\n",
      "For a guide to updating your code to use the new functions, please see\n",
      "https://gist.github.com/mwaskom/de44147ed2974457ad6372750bbe5751\n",
      "\n",
      "  sns.distplot( df4['sales'] ,kde=False )\n"
     ]
    },
    {
     "data": {
      "text/plain": [
       "<Axes: xlabel='sales'>"
      ]
     },
     "execution_count": 32,
     "metadata": {},
     "output_type": "execute_result"
    },
    {
     "data": {
      "image/png": "[encoded data removed]",
      "text/plain": [
       "<Figure size 640x480 with 1 Axes>"
      ]
     },
     "metadata": {},
     "output_type": "display_data"
    },
    {
     "name": "stdout",
     "output_type": "stream",
     "text": [
      "time: 188 ms (started: 2023-07-04 18:56:47 -03:00)\n"
     ]
    }
   ],
   "source": [
    "sns.distplot( df4['sales'] ,kde=False )  "
   ]
  },
  {
   "cell_type": "markdown",
   "id": "2a4f88a9",
   "metadata": {},
   "source": [
    "### 4.1.2 Numerical Variable\n"
   ]
  },
  {
   "cell_type": "code",
   "execution_count": 33,
   "id": "fbfe37bf",
   "metadata": {
    "ExecuteTime": {
     "end_time": "2023-07-04T21:57:11.765973Z",
     "start_time": "2023-07-04T21:57:10.252094Z"
    }
   },
   "outputs": [
    {
     "data": {
      "image/png": "[encoded data removed]",
      "text/plain": [
       "<Figure size 640x480 with 12 Axes>"
      ]
     },
     "metadata": {},
     "output_type": "display_data"
    },
    {
     "name": "stdout",
     "output_type": "stream",
     "text": [
      "time: 1.5 s (started: 2023-07-04 18:57:10 -03:00)\n"
     ]
    }
   ],
   "source": [
    "num_attributes.hist( bins=25);"
   ]
  },
  {
   "cell_type": "markdown",
   "id": "c53e604d",
   "metadata": {},
   "source": [
    "### 4.1.3 Categorical Variable\n"
   ]
  },
  {
   "cell_type": "code",
   "execution_count": 51,
   "id": "76a30b14",
   "metadata": {
    "ExecuteTime": {
     "end_time": "2023-07-04T22:19:10.330203Z",
     "start_time": "2023-07-04T22:19:10.274574Z"
    }
   },
   "outputs": [
    {
     "data": {
      "text/plain": [
       "0         basic\n",
       "3      extended\n",
       "258       extra\n",
       "Name: assortment, dtype: object"
      ]
     },
     "execution_count": 51,
     "metadata": {},
     "output_type": "execute_result"
    },
    {
     "name": "stdout",
     "output_type": "stream",
     "text": [
      "time: 47 ms (started: 2023-07-04 19:19:10 -03:00)\n"
     ]
    }
   ],
   "source": [
    "df4['state_holiday'].drop_duplicates()\n",
    "df4['store_type'].drop_duplicates()\n",
    "df4['assortment'].drop_duplicates()"
   ]
  },
  {
   "cell_type": "code",
   "execution_count": 3,
   "id": "34a09831",
   "metadata": {
    "ExecuteTime": {
     "end_time": "2023-07-04T22:24:44.186906Z",
     "start_time": "2023-07-04T22:24:44.024582Z"
    }
   },
   "outputs": [
    {
     "ename": "NameError",
     "evalue": "name 'df4' is not defined",
     "output_type": "error",
     "traceback": [
      "\u001b[1;31m---------------------------------------------------------------------------\u001b[0m",
      "\u001b[1;31mNameError\u001b[0m                                 Traceback (most recent call last)",
      "Cell \u001b[1;32mIn[3], line 3\u001b[0m\n\u001b[0;32m      1\u001b[0m \u001b[38;5;66;03m# state holiday\u001b[39;00m\n\u001b[0;32m      2\u001b[0m plt\u001b[38;5;241m.\u001b[39msubplot( \u001b[38;5;241m2\u001b[39m, \u001b[38;5;241m2\u001b[39m, \u001b[38;5;241m1\u001b[39m )\n\u001b[1;32m----> 3\u001b[0m a \u001b[38;5;241m=\u001b[39m \u001b[43mdf4\u001b[49m[df4[\u001b[38;5;124m'\u001b[39m\u001b[38;5;124mstate_holiday\u001b[39m\u001b[38;5;124m'\u001b[39m] \u001b[38;5;241m!=\u001b[39m \u001b[38;5;124m'\u001b[39m\u001b[38;5;124mregular_day\u001b[39m\u001b[38;5;124m'\u001b[39m]\n\u001b[0;32m      4\u001b[0m \u001b[38;5;66;03m#sns.countplot( a['state_holiday'] )\u001b[39;00m\n\u001b[0;32m      8\u001b[0m plt\u001b[38;5;241m.\u001b[39msubplot( \u001b[38;5;241m2\u001b[39m, \u001b[38;5;241m2\u001b[39m, \u001b[38;5;241m2\u001b[39m )\n",
      "\u001b[1;31mNameError\u001b[0m: name 'df4' is not defined"
     ]
    },
    {
     "data": {
      "image/png": "[encoded data removed]",
      "text/plain": [
       "<Figure size 640x480 with 1 Axes>"
      ]
     },
     "metadata": {},
     "output_type": "display_data"
    },
    {
     "name": "stdout",
     "output_type": "stream",
     "text": [
      "time: 140 ms (started: 2023-07-04 19:24:44 -03:00)\n"
     ]
    }
   ],
   "source": [
    "# state holiday\n",
    "plt.subplot( 2, 2, 1 )\n",
    "a = df4[df4['state_holiday'] != 'regular_day']\n",
    "#sns.countplot( a['state_holiday'] )\n",
    "\n",
    "\n",
    "\n",
    "plt.subplot( 2, 2, 2 )\n",
    "sns.kdeplot( df4[df4['state_holiday'] == 'public_holiday']['sales'], label='public_holiday', shade=True)\n",
    "sns.kdeplot( df4[df4['state_holiday'] == 'easter_holiday']['sales'], label='easter_holiday', shade=True)\n",
    "sns.kdeplot( df4[df4['state_holiday'] == 'christmas_holiday']['sales'], label='christmas_holiday', shade=True)\n",
    "\n",
    "# store type\n",
    "plt.subplot( 2, 2, 3 )\n",
    "#sns.countplot( df4['store_type'] )\n",
    "\n",
    "plt.subplot( 2, 2, 4 )\n",
    "sns.kdeplot( df4[df4['store_type'] == 'a']['sales'], label='a', shade=True)\n",
    "sns.kdeplot( df4[df4['store_type'] == 'b']['sales'], label='b', shade=True)\n",
    "sns.kdeplot( df4[df4['store_type'] == 'c']['sales'], label='c', shade=True)\n",
    "sns.kdeplot( df4[df4['store_type'] == 'd']['sales'], label='d', shade=True)\n",
    "\n",
    "# assortment\n",
    "plt.subplot( 2, 2, 5 )\n",
    "#sns.countplot( df4['assortment'] )\n",
    "\n",
    "plt.subplot( 2, 2, 6 )\n",
    "sns.kdeplot( df4[df4['assortment'] == 'extended']['sales'], label='extended', shade=True)\n",
    "sns.kdeplot( df4[df4['assortment'] == 'basic']['sales'], label='basic', shade=True)\n",
    "sns.kdeplot( df4[df4['assortment'] == 'extra']['sales'], label='extra', shade=True)\n",
    "\n"
   ]
  },
  {
   "cell_type": "markdown",
   "id": "a5489738",
   "metadata": {},
   "source": [
    "## 4.2 Analise bivariada"
   ]
  },
  {
   "cell_type": "markdown",
   "id": "fe461ed9",
   "metadata": {},
   "source": [
    "## 4.2 Analise multivariada"
   ]
  },
  {
   "cell_type": "code",
   "execution_count": null,
   "id": "10f74ad1",
   "metadata": {},
   "outputs": [],
   "source": []
  }
 ],
 "metadata": {
  "kernelspec": {
   "display_name": "Python 3 (ipykernel)",
   "language": "python",
   "name": "python3"
  },
  "language_info": {
   "codemirror_mode": {
    "name": "ipython",
    "version": 3
   },
   "file_extension": ".py",
   "mimetype": "text/x-python",
   "name": "python",
   "nbconvert_exporter": "python",
   "pygments_lexer": "ipython3",
   "version": "3.10.11"
  }
 },
 "nbformat": 4,
 "nbformat_minor": 5
}
